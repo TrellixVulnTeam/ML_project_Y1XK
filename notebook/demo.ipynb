{
 "cells": [
  {
   "cell_type": "code",
   "execution_count": 1,
   "metadata": {},
   "outputs": [],
   "source": [
    "from threading import Thread"
   ]
  },
  {
   "cell_type": "code",
   "execution_count": 2,
   "metadata": {},
   "outputs": [],
   "source": [
    "import time"
   ]
  },
  {
   "cell_type": "code",
   "execution_count": 21,
   "metadata": {},
   "outputs": [],
   "source": [
    "class DemoThread(Thread):\n",
    "    def __init__(self,*args,**kwargs):\n",
    "        super().__init__(daemon=False,name=\"demo thread\")\n",
    "\n",
    "    def print_msg(self):\n",
    "        time.sleep(1)\n",
    "        print(\"welcome in thread\")\n",
    "\n",
    "    def run(self):\n",
    "        self.print_msg()"
   ]
  },
  {
   "cell_type": "code",
   "execution_count": 22,
   "metadata": {},
   "outputs": [
    {
     "name": "stdout",
     "output_type": "stream",
     "text": [
      "creating object of demothread\n",
      "starting demo thread\n",
      "demo thread started\n",
      "welcome in thread\n",
      "demo thread completed\n"
     ]
    }
   ],
   "source": [
    "print(f\"creating object of demothread\")\n",
    "d=DemoThread()\n",
    "print(f\"starting demo thread\")\n",
    "d.start()\n",
    "print(f\"demo thread started\")\n",
    "d.join()\n",
    "print(f'demo thread completed')"
   ]
  },
  {
   "cell_type": "code",
   "execution_count": null,
   "metadata": {},
   "outputs": [],
   "source": []
  }
 ],
 "metadata": {
  "kernelspec": {
   "display_name": "Python 3.7.0 (conda)",
   "language": "python",
   "name": "python3"
  },
  "language_info": {
   "codemirror_mode": {
    "name": "ipython",
    "version": 3
   },
   "file_extension": ".py",
   "mimetype": "text/x-python",
   "name": "python",
   "nbconvert_exporter": "python",
   "pygments_lexer": "ipython3",
   "version": "3.7.0"
  },
  "orig_nbformat": 4,
  "vscode": {
   "interpreter": {
    "hash": "fb1ce67f8c4cceddfec15ebf0ad07e494a65fe6b09f64de192706cca2ad36c30"
   }
  }
 },
 "nbformat": 4,
 "nbformat_minor": 2
}
